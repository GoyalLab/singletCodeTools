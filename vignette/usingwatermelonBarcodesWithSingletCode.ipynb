{
 "cells": [
  {
   "cell_type": "code",
   "execution_count": null,
   "metadata": {},
   "outputs": [],
   "source": [
    "### This is a vignette on how to use watermelon barcodes with singletCode"
   ]
  },
  {
   "cell_type": "code",
   "execution_count": null,
   "metadata": {},
   "outputs": [],
   "source": [
    "# Installing singletCode Command line tool (and other packages)\n",
    "\n",
    "#!git clone https://github.com/GoyalLab/singletCodeTools\n",
    "#!conda install scipy tqdm matplotlib biopython python-levenshtein"
   ]
  },
  {
   "cell_type": "code",
   "execution_count": 5,
   "metadata": {},
   "outputs": [
    {
     "data": {
      "text/html": [
       "<div>\n",
       "<style scoped>\n",
       "    .dataframe tbody tr th:only-of-type {\n",
       "        vertical-align: middle;\n",
       "    }\n",
       "\n",
       "    .dataframe tbody tr th {\n",
       "        vertical-align: top;\n",
       "    }\n",
       "\n",
       "    .dataframe thead th {\n",
       "        text-align: right;\n",
       "    }\n",
       "</style>\n",
       "<table border=\"1\" class=\"dataframe\">\n",
       "  <thead>\n",
       "    <tr style=\"text-align: right;\">\n",
       "      <th></th>\n",
       "      <th>sampleName</th>\n",
       "      <th>sampleNumber</th>\n",
       "    </tr>\n",
       "  </thead>\n",
       "  <tbody>\n",
       "    <tr>\n",
       "      <th>0</th>\n",
       "      <td>sampleName</td>\n",
       "      <td>1</td>\n",
       "    </tr>\n",
       "    <tr>\n",
       "      <th>1</th>\n",
       "      <td>otherSampleName</td>\n",
       "      <td>2</td>\n",
       "    </tr>\n",
       "  </tbody>\n",
       "</table>\n",
       "</div>"
      ],
      "text/plain": [
       "        sampleName  sampleNumber\n",
       "0       sampleName             1\n",
       "1  otherSampleName             2"
      ]
     },
     "execution_count": 5,
     "metadata": {},
     "output_type": "execute_result"
    }
   ],
   "source": [
    "#Creating sample sheet for these two samples.¶\n",
    "\n",
    "import pandas as pd\n",
    "\n",
    "Path = \"/Volumes/fsmresfiles/Basic_Sciences/CDB/GoyalLab/People/MadelineMelzer/ZhangMelzerEtAl/scripts/singletCodeTools\"\n",
    "p = \"/Volumes/fsmresfiles/Basic_Sciences/CDB/GoyalLab/People/MadelineMelzer/ZhangMelzerEtAl/data/vignetteTests/watermelonVignetteData\"\n",
    "\n",
    "sampleSheet = pd.read_csv(f\"{p}/inputFiles/sampleSheet.csv\")\n",
    "sampleSheet"
   ]
  },
  {
   "cell_type": "code",
   "execution_count": 12,
   "metadata": {},
   "outputs": [
    {
     "name": "stdout",
     "output_type": "stream",
     "text": [
      "Arguments received:\n",
      "  command: watermelon\n",
      "  inputFolder: /Volumes/fsmresfiles/Basic_Sciences/CDB/GoyalLab/People/MadelineMelzer/ZhangMelzerEtAl/data/vignetteTests/watermelonVignetteData/inputFiles\n",
      "  outputFolder: /Volumes/fsmresfiles/Basic_Sciences/CDB/GoyalLab/People/MadelineMelzer/ZhangMelzerEtAl/data/vignetteTests/watermelonVignetteData/outputFiles\n",
      "  sampleSheet: /Volumes/fsmresfiles/Basic_Sciences/CDB/GoyalLab/People/MadelineMelzer/ZhangMelzerEtAl/data/vignetteTests/watermelonVignetteData/inputFiles/sampleSheet.csv\n",
      "  outputName: watermelonBarcodeUmi.csv\n",
      "  use10X: False\n",
      "  input10X: None\n",
      "All the inputs for the command are valid and will proceed with creating the barcode sheet for all the samples in the sheet.\n",
      "Filtered rows of dataframe: 1426\n",
      "Filtered rows of dataframe: 722\n"
     ]
    }
   ],
   "source": [
    "# Running watermelon module\n",
    "\n",
    "import subprocess\n",
    "\n",
    "command = [\n",
    "    'python',\n",
    "    f'{Path}/commandLine/singletCodeCommandLine.py',\n",
    "    \n",
    "    'watermelon',\n",
    "    '-i',  f'{p}/inputFiles',\n",
    "    '-o',  f'{p}/outputFiles',\n",
    "    '-s', f'{p}/inputFiles/sampleSheet.csv',\n",
    "    '--outputName', 'watermelonBarcodeUmi.csv'\n",
    "]\n",
    "\n",
    "result = subprocess.run(command)"
   ]
  },
  {
   "cell_type": "code",
   "execution_count": 13,
   "metadata": {},
   "outputs": [
    {
     "name": "stdout",
     "output_type": "stream",
     "text": [
      "Command executed successfully\n",
      "Output:\n",
      " Arguments received:\n",
      "  command: watermelon\n",
      "  inputFolder: /Volumes/fsmresfiles/Basic_Sciences/CDB/GoyalLab/People/MadelineMelzer/ZhangMelzerEtAl/data/vignetteTests/watermelonVignetteData/inputFiles/\n",
      "  outputFolder: /Volumes/fsmresfiles/Basic_Sciences/CDB/GoyalLab/People/MadelineMelzer/ZhangMelzerEtAl/data/vignetteTests/watermelonVignetteData/outputFiles/\n",
      "  sampleSheet: /Volumes/fsmresfiles/Basic_Sciences/CDB/GoyalLab/People/MadelineMelzer/ZhangMelzerEtAl/data/vignetteTests/watermelonVignetteData/inputFiles/sampleSheet.csv\n",
      "  outputName: watermelonBarcodeUmiWith10X.csv\n",
      "  use10X: True\n",
      "  input10X: /Volumes/fsmresfiles/Basic_Sciences/CDB/GoyalLab/People/MadelineMelzer/ZhangMelzerEtAl/data/vignetteTests/watermelonVignetteData/inputFiles/barcodes.tsv\n",
      "All the inputs for the command are valid and will proceed with creating the barcode sheet for all the samples in the sheet.\n",
      "Filtered rows of dataframe: 1026\n",
      "Filtered rows of dataframe: 529\n",
      "\n"
     ]
    }
   ],
   "source": [
    "# Using 10X list of cell IDs as check\n",
    "\n",
    "result = subprocess.run([\n",
    "    'python',\n",
    "    f'{Path}/commandLine/singletCodeCommandLine.py',\n",
    "    'watermelon',\n",
    "    '-i', f'{p}/inputFiles/',\n",
    "    '-o', f'{p}/outputFiles/',\n",
    "    '-s', f'{p}/inputFiles/sampleSheet.csv',\n",
    "    '--outputName', 'watermelonBarcodeUmiWith10X.csv',\n",
    "    '--use10X',\n",
    "    '--input10X', f'{p}/inputFiles/barcodes.tsv'\n",
    "], capture_output=True, text=True)\n",
    "\n",
    "# Check if the command was successful\n",
    "if result.returncode == 0:\n",
    "    print(\"Command executed successfully\")\n",
    "    print(\"Output:\\n\", result.stdout)\n",
    "else:\n",
    "    print(\"Command failed\")\n",
    "    print(\"Error:\\n\", result.stderr)"
   ]
  },
  {
   "cell_type": "code",
   "execution_count": 15,
   "metadata": {},
   "outputs": [
    {
     "name": "stdout",
     "output_type": "stream",
     "text": [
      "Command executed successfully\n",
      "Output:\n",
      " Arguments received:\n",
      "  command: count\n",
      "  input_file: /Volumes/fsmresfiles/Basic_Sciences/CDB/GoyalLab/People/MadelineMelzer/ZhangMelzerEtAl/data/vignetteTests/watermelonVignetteData/outputFiles/watermelonBarcodeUmi.csv\n",
      "  out_prefix: /Volumes/fsmresfiles/Basic_Sciences/CDB/GoyalLab/People/MadelineMelzer/ZhangMelzerEtAl/data/vignetteTests/watermelonVignetteData/outputFiles/watermelon\n",
      "  umi_cutoff_ratio: 7.5e-06\n",
      "  umi_diff_threshold: 50\n",
      "  dominant_threshold: 10\n",
      "  min_umi_good_data_cutoff: 2\n",
      "INFO: Raw data counts\n",
      "sampleNum\n",
      "sampleName         945\n",
      "otherSampleName    521\n",
      "Name: count, dtype: int64\n",
      "INFO: Using raio based filtering.\n",
      "Current Sample Adjusted UMI cutoff: 2\n",
      "Total cells: 64\n",
      "Sample sampleName singlet: 64\n",
      "Total Singlets: 64\n",
      "Total Multiplets: 0\n",
      "All singlets identified are unique? True\n",
      "Total Singlets: 64\n",
      "Total Multiplets: 0\n",
      "INFO: Using raio based filtering.\n",
      "Current Sample Adjusted UMI cutoff: 2\n",
      "Total cells: 24\n",
      "Sample otherSampleName singlet: 24\n",
      "Total Singlets: 24\n",
      "Total Multiplets: 0\n",
      "All singlets identified are unique? True\n",
      "Total Singlets: 24\n",
      "Total Multiplets: 0\n",
      "All singlets identified are unique? True\n",
      "\n"
     ]
    }
   ],
   "source": [
    "#singletCode module to identify true singlets\n",
    "\n",
    "result = subprocess.run([\n",
    "    'python',\n",
    "    f'{Path}/commandLine/singletCodeCommandLine.py',\n",
    "    'count',\n",
    "    '-i', f'{p}/outputFiles/watermelonBarcodeUmi.csv',\n",
    "    '-o', f'{p}/outputFiles/watermelon'\n",
    "], capture_output=True, text=True)\n",
    "\n",
    "# Check if the command was successful\n",
    "if result.returncode == 0:\n",
    "    print(\"Command executed successfully\")\n",
    "    print(\"Output:\\n\", result.stdout)\n",
    "else:\n",
    "    print(\"Command failed\")\n",
    "    print(\"Error:\\n\", result.stderr)"
   ]
  }
 ],
 "metadata": {
  "kernelspec": {
   "display_name": "base",
   "language": "python",
   "name": "python3"
  },
  "language_info": {
   "codemirror_mode": {
    "name": "ipython",
    "version": 3
   },
   "file_extension": ".py",
   "mimetype": "text/x-python",
   "name": "python",
   "nbconvert_exporter": "python",
   "pygments_lexer": "ipython3",
   "version": "3.10.13"
  }
 },
 "nbformat": 4,
 "nbformat_minor": 2
}
