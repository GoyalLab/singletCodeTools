{
 "cells": [
  {
   "cell_type": "code",
   "execution_count": null,
   "metadata": {},
   "outputs": [],
   "source": [
    "### This is a vignette on how to use the singletCode package"
   ]
  },
  {
   "cell_type": "code",
   "execution_count": 1,
   "metadata": {},
   "outputs": [
    {
     "name": "stdout",
     "output_type": "stream",
     "text": [
      "Collecting singletCode\n",
      "  Downloading singletCode-1.1.0-py3-none-any.whl.metadata (4.3 kB)\n",
      "Requirement already satisfied: scipy>=1.1.0 in /Users/mem3579/anaconda3/lib/python3.10/site-packages (from singletCode) (1.11.3)\n",
      "Requirement already satisfied: pandas>=0.23.4 in /Users/mem3579/anaconda3/lib/python3.10/site-packages (from singletCode) (2.1.1)\n",
      "Requirement already satisfied: tqdm>=4.28.1 in /Users/mem3579/anaconda3/lib/python3.10/site-packages (from singletCode) (4.65.0)\n",
      "Requirement already satisfied: matplotlib>=3.0.2 in /Users/mem3579/anaconda3/lib/python3.10/site-packages (from singletCode) (3.8.0)\n",
      "Requirement already satisfied: contourpy>=1.0.1 in /Users/mem3579/anaconda3/lib/python3.10/site-packages (from matplotlib>=3.0.2->singletCode) (1.0.5)\n",
      "Requirement already satisfied: cycler>=0.10 in /Users/mem3579/anaconda3/lib/python3.10/site-packages (from matplotlib>=3.0.2->singletCode) (0.11.0)\n",
      "Requirement already satisfied: fonttools>=4.22.0 in /Users/mem3579/anaconda3/lib/python3.10/site-packages (from matplotlib>=3.0.2->singletCode) (4.25.0)\n",
      "Requirement already satisfied: kiwisolver>=1.0.1 in /Users/mem3579/anaconda3/lib/python3.10/site-packages (from matplotlib>=3.0.2->singletCode) (1.4.4)\n",
      "Requirement already satisfied: numpy<2,>=1.21 in /Users/mem3579/anaconda3/lib/python3.10/site-packages (from matplotlib>=3.0.2->singletCode) (1.26.0)\n",
      "Requirement already satisfied: packaging>=20.0 in /Users/mem3579/anaconda3/lib/python3.10/site-packages (from matplotlib>=3.0.2->singletCode) (23.2)\n",
      "Requirement already satisfied: pillow>=6.2.0 in /Users/mem3579/anaconda3/lib/python3.10/site-packages (from matplotlib>=3.0.2->singletCode) (10.0.1)\n",
      "Requirement already satisfied: pyparsing>=2.3.1 in /Users/mem3579/anaconda3/lib/python3.10/site-packages (from matplotlib>=3.0.2->singletCode) (3.0.9)\n",
      "Requirement already satisfied: python-dateutil>=2.7 in /Users/mem3579/anaconda3/lib/python3.10/site-packages (from matplotlib>=3.0.2->singletCode) (2.8.2)\n",
      "Requirement already satisfied: pytz>=2020.1 in /Users/mem3579/anaconda3/lib/python3.10/site-packages (from pandas>=0.23.4->singletCode) (2023.3.post1)\n",
      "Requirement already satisfied: tzdata>=2022.1 in /Users/mem3579/anaconda3/lib/python3.10/site-packages (from pandas>=0.23.4->singletCode) (2023.3)\n",
      "Requirement already satisfied: six>=1.5 in /Users/mem3579/anaconda3/lib/python3.10/site-packages (from python-dateutil>=2.7->matplotlib>=3.0.2->singletCode) (1.16.0)\n",
      "Downloading singletCode-1.1.0-py3-none-any.whl (10 kB)\n",
      "Installing collected packages: singletCode\n",
      "Successfully installed singletCode-1.1.0\n",
      "\n",
      "\u001b[1m[\u001b[0m\u001b[34;49mnotice\u001b[0m\u001b[1;39;49m]\u001b[0m\u001b[39;49m A new release of pip is available: \u001b[0m\u001b[31;49m24.1\u001b[0m\u001b[39;49m -> \u001b[0m\u001b[32;49m24.1.2\u001b[0m\n",
      "\u001b[1m[\u001b[0m\u001b[34;49mnotice\u001b[0m\u001b[1;39;49m]\u001b[0m\u001b[39;49m To update, run: \u001b[0m\u001b[32;49mpip install --upgrade pip\u001b[0m\n"
     ]
    }
   ],
   "source": [
    "# Install singletCode package\n",
    "\n",
    "!pip3 install singletCode\n",
    "\n",
    "from singletCode import check_sample_sheet, get_singlets"
   ]
  },
  {
   "cell_type": "code",
   "execution_count": 3,
   "metadata": {},
   "outputs": [],
   "source": [
    "# Read in input sheet\n",
    "\n",
    "import pandas as pd\n",
    "path = \"/Volumes/fsmresfiles/Basic_Sciences/CDB/GoyalLab/People/MadelineMelzer/ZhangMelzerEtAl/data/vignetteTests/singletCodePackageVignetteData\"\n",
    "pathToInputSheet = f\"{path}/inputFiles/JiangEtAlSubset_InputSheet.csv\"\n",
    "df = pd.read_csv(pathToInputSheet)"
   ]
  },
  {
   "cell_type": "code",
   "execution_count": 4,
   "metadata": {},
   "outputs": [
    {
     "name": "stdout",
     "output_type": "stream",
     "text": [
      "The sample sheet provided can be used as input to get_singlets to get a list of singlets identified.\n"
     ]
    }
   ],
   "source": [
    "# Check formatting of input sheet\n",
    "\n",
    "check_sample_sheet(df)"
   ]
  },
  {
   "cell_type": "code",
   "execution_count": 5,
   "metadata": {},
   "outputs": [
    {
     "name": "stdout",
     "output_type": "stream",
     "text": [
      "INFO: Raw data counts: \n",
      "sample\n",
      "1    1306\n",
      "Name: count, dtype: int64\n",
      "Total cells for sample 1: 39\n",
      "INFO: Using ratio based filtering.\n",
      "Current Sample Adjusted UMI cutoff: 2\n"
     ]
    },
    {
     "name": "stderr",
     "output_type": "stream",
     "text": [
      "100%|██████████| 122/122 [00:00<00:00, 33188.81it/s]"
     ]
    },
    {
     "name": "stdout",
     "output_type": "stream",
     "text": [
      "All singlets identified with multiple barcodes are unique? True\n",
      "Total Singlets: 10\n",
      "Total Multiplets: 9\n"
     ]
    },
    {
     "name": "stderr",
     "output_type": "stream",
     "text": [
      "\n"
     ]
    }
   ],
   "source": [
    "# Identify singlets from input sheet\n",
    "\n",
    "outputPath = f\"{path}/outputFiles/\"\n",
    "cellLabelList, stats = get_singlets(df, dataset_name= \"JiangEtAlSubset\", save_all_singlet_categories = True, output_path=outputPath)\n",
    "\n",
    "#Saving the stats and the singlet list\n",
    "\n",
    "stats.to_csv(f\"{outputPath}/JiangEtAlSubset_stats.csv\")\n",
    "cellLabelList[cellLabelList['label'] == \"Singlet\"].to_csv(f\"{outputPath}/JiangEtAlSubset_singletList.csv\")"
   ]
  },
  {
   "cell_type": "code",
   "execution_count": 7,
   "metadata": {},
   "outputs": [
    {
     "data": {
      "text/html": [
       "<div>\n",
       "<style scoped>\n",
       "    .dataframe tbody tr th:only-of-type {\n",
       "        vertical-align: middle;\n",
       "    }\n",
       "\n",
       "    .dataframe tbody tr th {\n",
       "        vertical-align: top;\n",
       "    }\n",
       "\n",
       "    .dataframe thead th {\n",
       "        text-align: right;\n",
       "    }\n",
       "</style>\n",
       "<table border=\"1\" class=\"dataframe\">\n",
       "  <thead>\n",
       "    <tr style=\"text-align: right;\">\n",
       "      <th></th>\n",
       "      <th>cellID</th>\n",
       "      <th>barcode</th>\n",
       "      <th>sample</th>\n",
       "      <th>count</th>\n",
       "    </tr>\n",
       "  </thead>\n",
       "  <tbody>\n",
       "    <tr>\n",
       "      <th>0</th>\n",
       "      <td>TGTAAGCGTCTCGCGA</td>\n",
       "      <td>ATTGTTGTTGCAGATGCAGTTGATGCTGATGAAGTTGTACAAGGTC...</td>\n",
       "      <td>1</td>\n",
       "      <td>99</td>\n",
       "    </tr>\n",
       "    <tr>\n",
       "      <th>1</th>\n",
       "      <td>TGTAAGCGTCTCGCGA</td>\n",
       "      <td>ATTCGACTTGATCTTCTAGAACATGGTGAACTAGCAGGTGCTGATC...</td>\n",
       "      <td>1</td>\n",
       "      <td>7</td>\n",
       "    </tr>\n",
       "    <tr>\n",
       "      <th>2</th>\n",
       "      <td>TGTAAGCGTCTCGCGA</td>\n",
       "      <td>ATACTAGCTCAAGCAGTACTACTACTTCGTCTTCATGCAGAACAAC...</td>\n",
       "      <td>1</td>\n",
       "      <td>6</td>\n",
       "    </tr>\n",
       "    <tr>\n",
       "      <th>3</th>\n",
       "      <td>TGTAAGCGTCTCGCGA</td>\n",
       "      <td>ATAGATGCACTTGGTGGTCGAGTTCTAGTTGTAGCTGATCGTCCAG...</td>\n",
       "      <td>1</td>\n",
       "      <td>6</td>\n",
       "    </tr>\n",
       "    <tr>\n",
       "      <th>4</th>\n",
       "      <td>TGTAAGCGTCTCGCGA</td>\n",
       "      <td>ATTCGACCAGAACCACATGCAGTTCAACGTGTTCGAGGTGTAGATG...</td>\n",
       "      <td>1</td>\n",
       "      <td>6</td>\n",
       "    </tr>\n",
       "    <tr>\n",
       "      <th>...</th>\n",
       "      <td>...</td>\n",
       "      <td>...</td>\n",
       "      <td>...</td>\n",
       "      <td>...</td>\n",
       "    </tr>\n",
       "    <tr>\n",
       "      <th>82</th>\n",
       "      <td>TGTAAGCGTCTCGCGA</td>\n",
       "      <td>ATAGTAGTAGCTGTTGGTGTTGAAGTACTTCCTCTTGCTCCTCGTG...</td>\n",
       "      <td>1</td>\n",
       "      <td>1</td>\n",
       "    </tr>\n",
       "    <tr>\n",
       "      <th>83</th>\n",
       "      <td>TGTAAGCGTCTCGCGA</td>\n",
       "      <td>ATAGTAGATGAACGTCCTCTACATGTTCTTCGTCAAGTACCAGCAC...</td>\n",
       "      <td>1</td>\n",
       "      <td>1</td>\n",
       "    </tr>\n",
       "    <tr>\n",
       "      <th>84</th>\n",
       "      <td>TGTAAGCGTCTCGCGA</td>\n",
       "      <td>ATAGTACATGGTGGACCTGGACTTCGAGATGGAGCTCTTGTTCCTG...</td>\n",
       "      <td>1</td>\n",
       "      <td>1</td>\n",
       "    </tr>\n",
       "    <tr>\n",
       "      <th>85</th>\n",
       "      <td>TGTAAGCGTCTCGCGA</td>\n",
       "      <td>ATAGGAGTAGTTGGTGATGGTCTACCAGAAGGTGAAGGTGGAGAAG...</td>\n",
       "      <td>1</td>\n",
       "      <td>1</td>\n",
       "    </tr>\n",
       "    <tr>\n",
       "      <th>86</th>\n",
       "      <td>TGTAAGCGTCTCGCGA</td>\n",
       "      <td>GGTGCTCAACTTCTTGTTGTACTTCTAGTTGATGTTGGACGTCATC...</td>\n",
       "      <td>1</td>\n",
       "      <td>1</td>\n",
       "    </tr>\n",
       "  </tbody>\n",
       "</table>\n",
       "<p>87 rows × 4 columns</p>\n",
       "</div>"
      ],
      "text/plain": [
       "              cellID                                            barcode  \\\n",
       "0   TGTAAGCGTCTCGCGA  ATTGTTGTTGCAGATGCAGTTGATGCTGATGAAGTTGTACAAGGTC...   \n",
       "1   TGTAAGCGTCTCGCGA  ATTCGACTTGATCTTCTAGAACATGGTGAACTAGCAGGTGCTGATC...   \n",
       "2   TGTAAGCGTCTCGCGA  ATACTAGCTCAAGCAGTACTACTACTTCGTCTTCATGCAGAACAAC...   \n",
       "3   TGTAAGCGTCTCGCGA  ATAGATGCACTTGGTGGTCGAGTTCTAGTTGTAGCTGATCGTCCAG...   \n",
       "4   TGTAAGCGTCTCGCGA  ATTCGACCAGAACCACATGCAGTTCAACGTGTTCGAGGTGTAGATG...   \n",
       "..               ...                                                ...   \n",
       "82  TGTAAGCGTCTCGCGA  ATAGTAGTAGCTGTTGGTGTTGAAGTACTTCCTCTTGCTCCTCGTG...   \n",
       "83  TGTAAGCGTCTCGCGA  ATAGTAGATGAACGTCCTCTACATGTTCTTCGTCAAGTACCAGCAC...   \n",
       "84  TGTAAGCGTCTCGCGA  ATAGTACATGGTGGACCTGGACTTCGAGATGGAGCTCTTGTTCCTG...   \n",
       "85  TGTAAGCGTCTCGCGA  ATAGGAGTAGTTGGTGATGGTCTACCAGAAGGTGAAGGTGGAGAAG...   \n",
       "86  TGTAAGCGTCTCGCGA  GGTGCTCAACTTCTTGTTGTACTTCTAGTTGATGTTGGACGTCATC...   \n",
       "\n",
       "    sample  count  \n",
       "0        1     99  \n",
       "1        1      7  \n",
       "2        1      6  \n",
       "3        1      6  \n",
       "4        1      6  \n",
       "..     ...    ...  \n",
       "82       1      1  \n",
       "83       1      1  \n",
       "84       1      1  \n",
       "85       1      1  \n",
       "86       1      1  \n",
       "\n",
       "[87 rows x 4 columns]"
      ]
     },
     "execution_count": 7,
     "metadata": {},
     "output_type": "execute_result"
    }
   ],
   "source": [
    "#Understanding the output files\n",
    "\n",
    "import pandas as pd\n",
    "df[df['cellID'] == 'TGTAAGCGTCTCGCGA'].groupby(['cellID', 'barcode', 'sample']).size().reset_index(name='count').sort_values('count', ascending=False).reset_index(drop=True)"
   ]
  },
  {
   "cell_type": "code",
   "execution_count": 8,
   "metadata": {},
   "outputs": [
    {
     "data": {
      "text/html": [
       "<div>\n",
       "<style scoped>\n",
       "    .dataframe tbody tr th:only-of-type {\n",
       "        vertical-align: middle;\n",
       "    }\n",
       "\n",
       "    .dataframe tbody tr th {\n",
       "        vertical-align: top;\n",
       "    }\n",
       "\n",
       "    .dataframe thead th {\n",
       "        text-align: right;\n",
       "    }\n",
       "</style>\n",
       "<table border=\"1\" class=\"dataframe\">\n",
       "  <thead>\n",
       "    <tr style=\"text-align: right;\">\n",
       "      <th></th>\n",
       "      <th>cellID</th>\n",
       "      <th>barcode</th>\n",
       "      <th>sample</th>\n",
       "      <th>count</th>\n",
       "    </tr>\n",
       "  </thead>\n",
       "  <tbody>\n",
       "    <tr>\n",
       "      <th>0</th>\n",
       "      <td>AGGCTGCTCTTTCCGG</td>\n",
       "      <td>ATAGGAGTAGTTGGTGATGGTCTACCAGAAGGTGAAGGTGGAGAAG...</td>\n",
       "      <td>1</td>\n",
       "      <td>13</td>\n",
       "    </tr>\n",
       "    <tr>\n",
       "      <th>1</th>\n",
       "      <td>AGGCTGCTCTTTCCGG</td>\n",
       "      <td>ATTGAACGTGGAGTTGAACTTGTACTACGAGTACGTCTAGAACATG...</td>\n",
       "      <td>1</td>\n",
       "      <td>2</td>\n",
       "    </tr>\n",
       "  </tbody>\n",
       "</table>\n",
       "</div>"
      ],
      "text/plain": [
       "             cellID                                            barcode  \\\n",
       "0  AGGCTGCTCTTTCCGG  ATAGGAGTAGTTGGTGATGGTCTACCAGAAGGTGAAGGTGGAGAAG...   \n",
       "1  AGGCTGCTCTTTCCGG  ATTGAACGTGGAGTTGAACTTGTACTACGAGTACGTCTAGAACATG...   \n",
       "\n",
       "   sample  count  \n",
       "0       1     13  \n",
       "1       1      2  "
      ]
     },
     "execution_count": 8,
     "metadata": {},
     "output_type": "execute_result"
    }
   ],
   "source": [
    "(df[df['cellID'] == 'AGGCTGCTCTTTCCGG']\n",
    " .groupby(['cellID', 'barcode', 'sample'])\n",
    " .size()\n",
    " .reset_index(name='count')\n",
    " .sort_values('count', ascending=False)\n",
    " .query('count >= 2')\n",
    " .reset_index(drop=True)\n",
    ")"
   ]
  },
  {
   "cell_type": "code",
   "execution_count": 9,
   "metadata": {},
   "outputs": [
    {
     "data": {
      "text/html": [
       "<div>\n",
       "<style scoped>\n",
       "    .dataframe tbody tr th:only-of-type {\n",
       "        vertical-align: middle;\n",
       "    }\n",
       "\n",
       "    .dataframe tbody tr th {\n",
       "        vertical-align: top;\n",
       "    }\n",
       "\n",
       "    .dataframe thead th {\n",
       "        text-align: right;\n",
       "    }\n",
       "</style>\n",
       "<table border=\"1\" class=\"dataframe\">\n",
       "  <thead>\n",
       "    <tr style=\"text-align: right;\">\n",
       "      <th></th>\n",
       "      <th>cellID</th>\n",
       "      <th>barcode</th>\n",
       "      <th>sample</th>\n",
       "      <th>count</th>\n",
       "    </tr>\n",
       "  </thead>\n",
       "  <tbody>\n",
       "    <tr>\n",
       "      <th>0</th>\n",
       "      <td>GAGGGATGTAACATCC</td>\n",
       "      <td>ATAGGAGTAGTTGGTGATGGTCTACCAGAAGGTGAAGGTGGAGAAG...</td>\n",
       "      <td>1</td>\n",
       "      <td>12</td>\n",
       "    </tr>\n",
       "    <tr>\n",
       "      <th>1</th>\n",
       "      <td>GAGGGATGTAACATCC</td>\n",
       "      <td>ATTGAACGTGGAGTTGAACTTGTACTACGAGTACGTCTAGAACATG...</td>\n",
       "      <td>1</td>\n",
       "      <td>2</td>\n",
       "    </tr>\n",
       "  </tbody>\n",
       "</table>\n",
       "</div>"
      ],
      "text/plain": [
       "             cellID                                            barcode  \\\n",
       "0  GAGGGATGTAACATCC  ATAGGAGTAGTTGGTGATGGTCTACCAGAAGGTGAAGGTGGAGAAG...   \n",
       "1  GAGGGATGTAACATCC  ATTGAACGTGGAGTTGAACTTGTACTACGAGTACGTCTAGAACATG...   \n",
       "\n",
       "   sample  count  \n",
       "0       1     12  \n",
       "1       1      2  "
      ]
     },
     "execution_count": 9,
     "metadata": {},
     "output_type": "execute_result"
    }
   ],
   "source": [
    "(df[df['cellID'] == 'GAGGGATGTAACATCC']\n",
    " .groupby(['cellID', 'barcode', 'sample'])\n",
    " .size()\n",
    " .reset_index(name='count')\n",
    " .sort_values('count', ascending=False)\n",
    " .query('count >= 2')\n",
    " .reset_index(drop=True)\n",
    ")"
   ]
  }
 ],
 "metadata": {
  "kernelspec": {
   "display_name": "base",
   "language": "python",
   "name": "python3"
  },
  "language_info": {
   "codemirror_mode": {
    "name": "ipython",
    "version": 3
   },
   "file_extension": ".py",
   "mimetype": "text/x-python",
   "name": "python",
   "nbconvert_exporter": "python",
   "pygments_lexer": "ipython3",
   "version": "3.10.13"
  }
 },
 "nbformat": 4,
 "nbformat_minor": 2
}
